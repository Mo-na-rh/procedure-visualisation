{
  "nbformat": 4,
  "nbformat_minor": 0,
  "metadata": {
    "kernelspec": {
      "display_name": "Python 3",
      "language": "python",
      "name": "python3"
    },
    "language_info": {
      "codemirror_mode": {
        "name": "ipython",
        "version": 3
      },
      "file_extension": ".py",
      "mimetype": "text/x-python",
      "name": "python",
      "nbconvert_exporter": "python",
      "pygments_lexer": "ipython3",
      "version": "3.7.7"
    },
    "colab": {
      "name": "GCN_numpy.ipynb",
      "provenance": []
    }
  },
  "cells": [
    {
      "cell_type": "markdown",
      "metadata": {
        "id": "PoDdlXYdqHxN"
      },
      "source": [
        "# Initializing the Graph"
      ]
    },
    {
      "cell_type": "code",
      "metadata": {
        "id": "A7gG1WrNqHxo"
      },
      "source": [
        "import networkx as nx\n",
        "import numpy as np\n",
        "import matplotlib.pyplot as plt\n",
        "from scipy.linalg import fractional_matrix_power\n",
        "\n",
        "# import warnings\n",
        "# warnings.filterwarnings(\"ignore\", category=UserWarning)"
      ],
      "execution_count": 1,
      "outputs": []
    },
    {
      "cell_type": "code",
      "metadata": {
        "colab": {
          "base_uri": "https://localhost:8080/",
          "height": 453
        },
        "id": "iRidkOJZqHxp",
        "outputId": "21f00e69-f623-4c8b-b606-8d5a74417d52"
      },
      "source": [
        "G = nx.Graph(name='G')\n",
        "\n",
        "for i in range(6):\n",
        "    G.add_node(i, name=i)\n",
        "\n",
        "edges = [(0, 1), (0, 2), (1, 2), (0, 3), (3, 4), (3, 5), (4, 5)]\n",
        "G.add_edges_from(edges)\n",
        "\n",
        "print('Graph Info:\\n{0}'.format(nx.info(G)))\n",
        "\n",
        "print('\\nGraph Nodes: {0}'.format(G.nodes.data()))\n",
        "\n",
        "nx.draw(G, with_labels=True, font_weight='bold')\n",
        "plt.show()"
      ],
      "execution_count": 2,
      "outputs": [
        {
          "output_type": "stream",
          "text": [
            "Graph Info:\n",
            "Name: G\n",
            "Type: Graph\n",
            "Number of nodes: 6\n",
            "Number of edges: 7\n",
            "Average degree:   2.3333\n",
            "\n",
            "Graph Nodes: [(0, {'name': 0}), (1, {'name': 1}), (2, {'name': 2}), (3, {'name': 3}), (4, {'name': 4}), (5, {'name': 5})]\n"
          ],
          "name": "stdout"
        },
        {
          "output_type": "display_data",
          "data": {
            "image/png": "[encoded data removed]",
            "text/plain": [
              "<Figure size 432x288 with 1 Axes>"
            ]
          },
          "metadata": {
            "tags": []
          }
        }
      ]
    },
    {
      "cell_type": "markdown",
      "metadata": {
        "id": "sQ7qKd2ZqHxs"
      },
      "source": [
        "# Adjacency Matrix"
      ]
    },
    {
      "cell_type": "code",
      "metadata": {
        "colab": {
          "base_uri": "https://localhost:8080/"
        },
        "id": "0FqsqvIeqHxt",
        "outputId": "ff7ca1fc-5399-4767-f177-119e491c47f6"
      },
      "source": [
        "# Method attr_matrix()\n",
        "nx.attr_matrix(G, node_attr='name')"
      ],
      "execution_count": 3,
      "outputs": [
        {
          "output_type": "execute_result",
          "data": {
            "text/plain": [
              "(matrix([[0., 1., 1., 1., 0., 0.],\n",
              "         [1., 0., 1., 0., 0., 0.],\n",
              "         [1., 1., 0., 0., 0., 0.],\n",
              "         [1., 0., 0., 0., 1., 1.],\n",
              "         [0., 0., 0., 1., 0., 1.],\n",
              "         [0., 0., 0., 1., 1., 0.]]), [0, 1, 2, 3, 4, 5])"
            ]
          },
          "metadata": {
            "tags": []
          },
          "execution_count": 3
        }
      ]
    },
    {
      "cell_type": "code",
      "metadata": {
        "colab": {
          "base_uri": "https://localhost:8080/"
        },
        "id": "q6jyA8DGqHxt",
        "outputId": "a35307bf-83e3-43d5-ac03-e4f8d8b21371"
      },
      "source": [
        "# Adjacency Matrix (A) and Node Features Matrix (X) as numpy array\n",
        "A = np.array(nx.attr_matrix(G, node_attr='name')[0])\n",
        "X = np.array(nx.attr_matrix(G, node_attr='name')[1])\n",
        "X = np.expand_dims(X,axis=1)\n",
        "\n",
        "print('Shape of A: {0}'.format(A.shape))\n",
        "print('\\nShape of X: {0}'.format(X.shape))\n",
        "print('\\nAdjacency Matrix (A):\\n{0}'.format(A))\n",
        "print('\\nNode Features Matrix (X):\\n{0}'.format(X))"
      ],
      "execution_count": 4,
      "outputs": [
        {
          "output_type": "stream",
          "text": [
            "Shape of A: (6, 6)\n",
            "\n",
            "Shape of X: (6, 1)\n",
            "\n",
            "Adjacency Matrix (A):\n",
            "[[0. 1. 1. 1. 0. 0.]\n",
            " [1. 0. 1. 0. 0. 0.]\n",
            " [1. 1. 0. 0. 0. 0.]\n",
            " [1. 0. 0. 0. 1. 1.]\n",
            " [0. 0. 0. 1. 0. 1.]\n",
            " [0. 0. 0. 1. 1. 0.]]\n",
            "\n",
            "Node Features Matrix (X):\n",
            "[[0]\n",
            " [1]\n",
            " [2]\n",
            " [3]\n",
            " [4]\n",
            " [5]]\n"
          ],
          "name": "stdout"
        }
      ]
    },
    {
      "cell_type": "markdown",
      "metadata": {
        "id": "T36piEgIqHxu"
      },
      "source": [
        "Скалярное произведение A и X"
      ]
    },
    {
      "cell_type": "code",
      "metadata": {
        "colab": {
          "base_uri": "https://localhost:8080/"
        },
        "id": "wY4PlxF0qHxu",
        "outputId": "61b48cab-8b47-40c3-85d7-0644bc67ff2d"
      },
      "source": [
        "AX = np.dot(A,X)\n",
        "print('ot product of A and X (AX):\\n{0}'.format(AX))"
      ],
      "execution_count": 5,
      "outputs": [
        {
          "output_type": "stream",
          "text": [
            "ot product of A and X (AX):\n",
            "[[6.]\n",
            " [2.]\n",
            " [1.]\n",
            " [9.]\n",
            " [8.]\n",
            " [7.]]\n"
          ],
          "name": "stdout"
        }
      ]
    },
    {
      "cell_type": "markdown",
      "metadata": {
        "id": "vtJPSwjuqHxu"
      },
      "source": [
        "Дот продукт - это сумма по соседним узлам. Не учитывает сам узел."
      ]
    },
    {
      "cell_type": "markdown",
      "metadata": {
        "id": "-BrRNj7AqHxv"
      },
      "source": [
        "Как предлагается решить эту проблему? А просто добавить петли для каждой ноды. Таким образом каждая нода начнет ссылаться сама на себя"
      ]
    },
    {
      "cell_type": "code",
      "metadata": {
        "colab": {
          "base_uri": "https://localhost:8080/"
        },
        "id": "d82yAauPqHxv",
        "outputId": "f3d0849e-8de9-4f14-f423-59393939c167"
      },
      "source": [
        "G_self_loops = G.copy()\n",
        "\n",
        "self_loops = []\n",
        "for i in range(G.number_of_nodes()):\n",
        "    self_loops.append((i,i))\n",
        "\n",
        "G_self_loops.add_edges_from(self_loops)\n",
        "\n",
        "# Check the edges of G_self_loops after adding the self loops\n",
        "print('Edges of G with self-loops:\\n{0}'.format(G_self_loops.edges))\n",
        "\n",
        "# Adjacency Matrix (A) and Node Features Matrix (X) of self-lopps graph\n",
        "A_hat = np.array(nx.attr_matrix(G_self_loops, node_attr='name')[0])\n",
        "print('Adjacency Matrix of added self-loops G (A_hat):\\n{0}'.format(A_hat))\n",
        "\n",
        "# dot product\n",
        "AX = np.dot(A_hat, X)\n",
        "print('AX:\\n{0}'.format(AX))"
      ],
      "execution_count": 6,
      "outputs": [
        {
          "output_type": "stream",
          "text": [
            "Edges of G with self-loops:\n",
            "[(0, 1), (0, 2), (0, 3), (0, 0), (1, 2), (1, 1), (2, 2), (3, 4), (3, 5), (3, 3), (4, 5), (4, 4), (5, 5)]\n",
            "Adjacency Matrix of added self-loops G (A_hat):\n",
            "[[1. 1. 1. 1. 0. 0.]\n",
            " [1. 1. 1. 0. 0. 0.]\n",
            " [1. 1. 1. 0. 0. 0.]\n",
            " [1. 0. 0. 1. 1. 1.]\n",
            " [0. 0. 0. 1. 1. 1.]\n",
            " [0. 0. 0. 1. 1. 1.]]\n",
            "AX:\n",
            "[[ 6.]\n",
            " [ 3.]\n",
            " [ 3.]\n",
            " [12.]\n",
            " [12.]\n",
            " [12.]]\n"
          ],
          "name": "stdout"
        }
      ]
    },
    {
      "cell_type": "markdown",
      "metadata": {
        "id": "k1chowEbqHxw"
      },
      "source": [
        "**Надо нормализовать данные**\n",
        "\n",
        "Для GCNN вычисляется матрица степеней (D) и выполняется операция скалярного произведения онвертированной D с AX (DAX). «Степень» относится к количеству ребер, с которыми связан узел."
      ]
    },
    {
      "cell_type": "markdown",
      "metadata": {
        "id": "sE3fqcZ6qHxw"
      },
      "source": [
        "![](img/034.png)"
      ]
    },
    {
      "cell_type": "code",
      "metadata": {
        "colab": {
          "base_uri": "https://localhost:8080/"
        },
        "id": "mm1VXz3QqHxw",
        "outputId": "7178fdae-c4b8-4f35-b6bc-d51009130df6"
      },
      "source": [
        "# Degree Matrix of the self-loops graph\n",
        "Deg_Mat = G_self_loops.degree()\n",
        "print('Degree Matrix of added self-loops G (D): {0}'.format(Deg_Mat))\n",
        "\n",
        "# Convert the Degree Matrix to a N x N matrix where N is the number of nodes\n",
        "D = np.diag([deg for (n,deg) in list(Deg_Mat)])\n",
        "print('Degree Matrix of added self-loops G as numpy array (D):\\n{0}'.format(D))\n",
        "\n",
        "# Inverse of Degree Matrix (D)\n",
        "D_inv = np.linalg.inv(D)\n",
        "print('Inverse of D:\\n{0}'.format(D_inv))\n",
        "\n",
        "#Dot product of D and AX for normalization\n",
        "DAX = np.dot(D_inv,AX)\n",
        "print('DAX:\\n{0}'.format(DAX))"
      ],
      "execution_count": 7,
      "outputs": [
        {
          "output_type": "stream",
          "text": [
            "Degree Matrix of added self-loops G (D): [(0, 5), (1, 4), (2, 4), (3, 5), (4, 4), (5, 4)]\n",
            "Degree Matrix of added self-loops G as numpy array (D):\n",
            "[[5 0 0 0 0 0]\n",
            " [0 4 0 0 0 0]\n",
            " [0 0 4 0 0 0]\n",
            " [0 0 0 5 0 0]\n",
            " [0 0 0 0 4 0]\n",
            " [0 0 0 0 0 4]]\n",
            "Inverse of D:\n",
            "[[0.2  0.   0.   0.   0.   0.  ]\n",
            " [0.   0.25 0.   0.   0.   0.  ]\n",
            " [0.   0.   0.25 0.   0.   0.  ]\n",
            " [0.   0.   0.   0.2  0.   0.  ]\n",
            " [0.   0.   0.   0.   0.25 0.  ]\n",
            " [0.   0.   0.   0.   0.   0.25]]\n",
            "DAX:\n",
            "[[1.2 ]\n",
            " [0.75]\n",
            " [0.75]\n",
            " [2.4 ]\n",
            " [3.  ]\n",
            " [3.  ]]\n"
          ],
          "name": "stdout"
        }
      ]
    },
    {
      "cell_type": "markdown",
      "metadata": {
        "id": "XwHKK0JGqHxw"
      },
      "source": [
        "При сравнении DAX и AX обнаруживается это:\n",
        "![](img/032.png)\n",
        "\n",
        "После нормализации значение на узле 3 изменилось. Это происходит из-за того, что у узда 3 больше ребер, чем у узлов 4 и 5. В результате у узла 3 выше степень и ниже вес в DAX. Порлучается, что чем ниже степень у узла, тем ближе он к какому-то кластеру узлов.\n",
        "\n",
        "Решение проблемы: [symmetric normalization](https://arxiv.org/pdf/1609.02907.pdf) - я прочитл по диагонали, там эта штука называется трюком перенормировки.\n",
        "\n",
        "![](img/033.png)"
      ]
    },
    {
      "cell_type": "code",
      "metadata": {
        "id": "vvV5oVtxqHxx",
        "outputId": "15c19aa5-9b5b-4427-f6a8-9df69c4450ad"
      },
      "source": [
        "# Symmetrically-normalization\n",
        "D_half_norm = fractional_matrix_power(D, -0.5)\n",
        "DADX = D_half_norm.dot(A_hat).dot(D_half_norm).dot(X)\n",
        "print('DADX:\\n{0}'.format(DADX))"
      ],
      "execution_count": null,
      "outputs": [
        {
          "output_type": "stream",
          "text": [
            "DADX:\n",
            "[[1.27082039]\n",
            " [0.75      ]\n",
            " [0.75      ]\n",
            " [2.61246118]\n",
            " [2.92082039]\n",
            " [2.92082039]]\n"
          ],
          "name": "stdout"
        }
      ]
    },
    {
      "cell_type": "markdown",
      "metadata": {
        "id": "UbuDMy2DqHxx"
      },
      "source": [
        "# Weights and Activation Function\n",
        "\n",
        "Дальше просто: строится двухслойная сеть с прямым распространением. Четыре нейрона в первом слое. Два нейрона на выходе (два измеренеия). Relu"
      ]
    },
    {
      "cell_type": "code",
      "metadata": {
        "colab": {
          "base_uri": "https://localhost:8080/"
        },
        "id": "gGegUdZJqHxx",
        "outputId": "5f3c7ceb-002d-4572-fb36-314d3fa6a55f"
      },
      "source": [
        "# Initialize the weights\n",
        "np.random.seed(77777)\n",
        "n_h = 4 #number of neurons in the hidden layer\n",
        "n_y = 2 #number of neurons in the output layer\n",
        "W0 = np.random.randn(X.shape[1],n_h) * 0.01\n",
        "W1 = np.random.randn(n_h,n_y) * 0.01\n",
        "\n",
        "#I ReLu as activation function\n",
        "def relu(x):\n",
        "    return np.maximum(0, x)\n",
        "\n",
        "# GCN layer\n",
        "def gcn(A, H, W):\n",
        "    I = np.identity(A.shape[0]) # create Identity Matrix of A\n",
        "    A_hat = A + I # add self-loop to A\n",
        "    D = np.diag(np.sum(A_hat, axis=0)) # create Degree Matrix of A\n",
        "    D_half_norm = fractional_matrix_power(D, -0.5) # calculate D to the power of -0.5 (трюк с нормализацией)\n",
        "    eq = D_half_norm.dot(A_hat).dot(D_half_norm).dot(H).dot(W)\n",
        "    return relu(eq)\n",
        "\n",
        "# Do forward propagation\n",
        "H1 = gcn(A, X, W0)\n",
        "H2 = gcn(A, H1, W1)\n",
        "print('Features Representation from GCN output:\\n{0}'.format(H2))"
      ],
      "execution_count": 9,
      "outputs": [
        {
          "output_type": "stream",
          "text": [
            "Features Representation from GCN output:\n",
            "[[0.00027758 0.        ]\n",
            " [0.00017298 0.        ]\n",
            " [0.00017298 0.        ]\n",
            " [0.00053017 0.        ]\n",
            " [0.00054097 0.        ]\n",
            " [0.00054097 0.        ]]\n"
          ],
          "name": "stdout"
        }
      ]
    },
    {
      "cell_type": "markdown",
      "metadata": {
        "id": "S_By_QdxqHxx"
      },
      "source": [
        "# Plotting the Features Representations"
      ]
    },
    {
      "cell_type": "code",
      "metadata": {
        "colab": {
          "base_uri": "https://localhost:8080/",
          "height": 295
        },
        "id": "ledwrYj2qHxy",
        "outputId": "d756df38-2520-49c7-c98e-7fe807eea987"
      },
      "source": [
        "def plot_features(H2):\n",
        "    #Plot the features representation\n",
        "    x = H2[:,0]\n",
        "    y = H2[:,1]\n",
        "\n",
        "    size = 1000\n",
        "\n",
        "    plt.scatter(x,y,size)\n",
        "    plt.xlim([np.min(x)*0.9, np.max(x)*1.1])\n",
        "    plt.ylim([-1, 1])\n",
        "    plt.xlabel('Feature Representation Dimension 0')\n",
        "    plt.ylabel('Feature Representation Dimension 1')\n",
        "    plt.title('Feature Representation')\n",
        "\n",
        "    for i,row in enumerate(H2):\n",
        "        str = \"{}\".format(i)\n",
        "        plt.annotate(str, (row[0],row[1]),fontsize=18, fontweight='bold')\n",
        "\n",
        "    plt.show()\n",
        "\n",
        "\n",
        "plot_features(H2)"
      ],
      "execution_count": 10,
      "outputs": [
        {
          "output_type": "display_data",
          "data": {
            "image/png": "[encoded data removed]",
            "text/plain": [
              "<Figure size 432x288 with 1 Axes>"
            ]
          },
          "metadata": {
            "tags": [],
            "needs_background": "light"
          }
        }
      ]
    },
    {
      "cell_type": "markdown",
      "metadata": {
        "id": "_ZvxETFIqHxy"
      },
      "source": [
        "[источник](https://towardsdatascience.com/understanding-graph-convolutional-networks-for-node-classification-a2bfdb7aba7b)"
      ]
    },
    {
      "cell_type": "code",
      "metadata": {
        "colab": {
          "base_uri": "https://localhost:8080/",
          "height": 453
        },
        "id": "NMjy_yWUqHxy",
        "outputId": "afdde992-454e-4020-dea9-0f57cfd10a63"
      },
      "source": [
        "G1 = nx.Graph(name='G1')\n",
        "\n",
        "for i in range(10):\n",
        "    G1.add_node(i, name=i)\n",
        "\n",
        "edges1 = [(0, 1), (0, 2), (0, 3), (1, 4), (1, 5), (4, 5), (2, 6), (2, 7), (6, 7), (3, 8), (3, 9), (8, 9)]\n",
        "G1.add_edges_from(edges1)\n",
        "\n",
        "print('Graph Info:\\n{0}'.format(nx.info(G1)))\n",
        "\n",
        "print('\\nGraph Nodes: {0}'.format(G1.nodes.data()))\n",
        "\n",
        "nx.draw(G1, with_labels=True, font_weight='bold')\n",
        "plt.show()"
      ],
      "execution_count": 11,
      "outputs": [
        {
          "output_type": "stream",
          "text": [
            "Graph Info:\n",
            "Name: G1\n",
            "Type: Graph\n",
            "Number of nodes: 10\n",
            "Number of edges: 12\n",
            "Average degree:   2.4000\n",
            "\n",
            "Graph Nodes: [(0, {'name': 0}), (1, {'name': 1}), (2, {'name': 2}), (3, {'name': 3}), (4, {'name': 4}), (5, {'name': 5}), (6, {'name': 6}), (7, {'name': 7}), (8, {'name': 8}), (9, {'name': 9})]\n"
          ],
          "name": "stdout"
        },
        {
          "output_type": "display_data",
          "data": {
            "image/png": "[encoded data removed]",
            "text/plain": [
              "<Figure size 432x288 with 1 Axes>"
            ]
          },
          "metadata": {
            "tags": []
          }
        }
      ]
    },
    {
      "cell_type": "code",
      "metadata": {
        "colab": {
          "base_uri": "https://localhost:8080/"
        },
        "id": "VsMu-ua3qHxy",
        "outputId": "83f9c1ee-c38f-4c61-cb24-e0d1acbb78a5"
      },
      "source": [
        "A1 = np.array(nx.attr_matrix(G1, node_attr='name')[0])\n",
        "X1 = np.array(nx.attr_matrix(G1, node_attr='name')[1])\n",
        "X1 = np.expand_dims(X1, axis=1)\n",
        "\n",
        "print('Shape of A1: {0}'.format(A1.shape))\n",
        "print('\\nShape of X1: {0}'.format(X1.shape))\n",
        "print('\\nAdjacency Matrix (A1):\\n{0}'.format(A1))\n",
        "print('\\nNode Features Matrix (X1):\\n{0}'.format(X1))"
      ],
      "execution_count": 12,
      "outputs": [
        {
          "output_type": "stream",
          "text": [
            "Shape of A1: (10, 10)\n",
            "\n",
            "Shape of X1: (10, 1)\n",
            "\n",
            "Adjacency Matrix (A1):\n",
            "[[0. 1. 1. 1. 0. 0. 0. 0. 0. 0.]\n",
            " [1. 0. 0. 0. 1. 1. 0. 0. 0. 0.]\n",
            " [1. 0. 0. 0. 0. 0. 1. 1. 0. 0.]\n",
            " [1. 0. 0. 0. 0. 0. 0. 0. 1. 1.]\n",
            " [0. 1. 0. 0. 0. 1. 0. 0. 0. 0.]\n",
            " [0. 1. 0. 0. 1. 0. 0. 0. 0. 0.]\n",
            " [0. 0. 1. 0. 0. 0. 0. 1. 0. 0.]\n",
            " [0. 0. 1. 0. 0. 0. 1. 0. 0. 0.]\n",
            " [0. 0. 0. 1. 0. 0. 0. 0. 0. 1.]\n",
            " [0. 0. 0. 1. 0. 0. 0. 0. 1. 0.]]\n",
            "\n",
            "Node Features Matrix (X1):\n",
            "[[0]\n",
            " [1]\n",
            " [2]\n",
            " [3]\n",
            " [4]\n",
            " [5]\n",
            " [6]\n",
            " [7]\n",
            " [8]\n",
            " [9]]\n"
          ],
          "name": "stdout"
        }
      ]
    },
    {
      "cell_type": "code",
      "metadata": {
        "id": "DTBC0CuMqHxz"
      },
      "source": [
        "n_h = 6\n",
        "n_y = 2\n",
        "W0 = np.random.randn(X1.shape[1], n_h) * 0.01\n",
        "W1 = np.random.randn(n_h, n_y) * 0.01"
      ],
      "execution_count": 13,
      "outputs": []
    },
    {
      "cell_type": "code",
      "metadata": {
        "colab": {
          "base_uri": "https://localhost:8080/"
        },
        "id": "Ej913dgjqHxz",
        "outputId": "872b17af-2b72-4205-fe08-bcc8842eae38"
      },
      "source": [
        "H1 = gcn(A1, X1, W0)\n",
        "H2 = gcn(A1, H1, W1)\n",
        "print('Features Representation from GCN output:\\n{0}'.format(H2))"
      ],
      "execution_count": 14,
      "outputs": [
        {
          "output_type": "stream",
          "text": [
            "Features Representation from GCN output:\n",
            "[[0.00013893 0.00022762]\n",
            " [0.00011637 0.00019066]\n",
            " [0.00016655 0.00027288]\n",
            " [0.00021674 0.00035511]\n",
            " [0.00011749 0.0001925 ]\n",
            " [0.00011749 0.0001925 ]\n",
            " [0.00017544 0.00028745]\n",
            " [0.00017544 0.00028745]\n",
            " [0.00023339 0.00038239]\n",
            " [0.00023339 0.00038239]]\n"
          ],
          "name": "stdout"
        }
      ]
    },
    {
      "cell_type": "code",
      "metadata": {
        "colab": {
          "base_uri": "https://localhost:8080/",
          "height": 295
        },
        "id": "4eIB20ElqHxz",
        "outputId": "1b86884a-1d6a-4191-bc45-0f6ae0d22d5c"
      },
      "source": [
        "def plot_features(H2):\n",
        "    #Plot the features representation\n",
        "    x = H2[:,0]\n",
        "    y = H2[:,1]\n",
        "\n",
        "    size = 1000\n",
        "\n",
        "    plt.scatter(x,y,size)\n",
        "    plt.xlim([np.min(x)*0.9, np.max(x)*1.1])\n",
        "    plt.ylim([-1, 1])\n",
        "    plt.xlabel('Feature Representation Dimension 0')\n",
        "    plt.ylabel('Feature Representation Dimension 1')\n",
        "    plt.title('Feature Representation')\n",
        "\n",
        "    for i,row in enumerate(H2):\n",
        "        str = \"{}\".format(i)\n",
        "        plt.annotate(str, (row[0],row[1]),fontsize=18, fontweight='bold')\n",
        "\n",
        "    plt.show()\n",
        "\n",
        "\n",
        "plot_features(H2)"
      ],
      "execution_count": 15,
      "outputs": [
        {
          "output_type": "display_data",
          "data": {
            "image/png": "[encoded data removed]",
            "text/plain": [
              "<Figure size 432x288 with 1 Axes>"
            ]
          },
          "metadata": {
            "tags": [],
            "needs_background": "light"
          }
        }
      ]
    },
    {
      "cell_type": "code",
      "metadata": {
        "id": "g6YkDITCqHx0"
      },
      "source": [
        ""
      ],
      "execution_count": null,
      "outputs": []
    }
  ]
}